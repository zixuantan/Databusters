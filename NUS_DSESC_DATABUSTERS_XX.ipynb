{
  "cells": [
    {
      "cell_type": "markdown",
      "metadata": {
        "id": "view-in-github",
        "colab_type": "text"
      },
      "source": [
        "<a href=\"https://colab.research.google.com/github/zixuantan/Databusters/blob/main/NUS_DSESC_DATABUSTERS_XX.ipynb\" target=\"_parent\"><img src=\"https://colab.research.google.com/assets/colab-badge.svg\" alt=\"Open In Colab\"/></a>"
      ]
    },
    {
      "cell_type": "markdown",
      "metadata": {
        "id": "Ac7I8Cn1uCXl"
      },
      "source": [
        "## 1) Libraries Installation\n",
        "##### The cell below is to help you keep track the libraries used and install them quickly.\n",
        "##### Ensure the correct library names are used, and follow the syntax: **%pip install PACKAGE_NAME**."
      ]
    },
    {
      "cell_type": "code",
      "source": [
        "# test 2"
      ],
      "metadata": {
        "id": "CA7qzyscSJ-O"
      },
      "execution_count": null,
      "outputs": []
    },
    {
      "cell_type": "code",
      "execution_count": null,
      "metadata": {
        "id": "a4GYYh8ruCXl"
      },
      "outputs": [],
      "source": [
        "# %pip install pandas\n",
        "# %pip install matplotlib\n",
        "# add commented pip installation lines for packages used as shown above for ease of testing\n",
        "# the line should follow the format %pip install PACKAGE_NAME\n"
      ]
    },
    {
      "cell_type": "markdown",
      "metadata": {
        "id": "0dW6s07OuCXm"
      },
      "source": [
        "## 2) Main Section for Code\n",
        "### **ALL code for machine learning and dataset analysis** should be entered below.\n",
        "##### Ensure that your code is clear and readable.\n",
        "##### Remember to include comments and markdown notes as necessary to explain and highlight important segments of your code."
      ]
    },
    {
      "cell_type": "code",
      "execution_count": 3,
      "metadata": {
        "id": "EyoqPn4nuCXm",
        "outputId": "4169ad2d-1903-456b-ed6e-e555f6c39e10",
        "colab": {
          "base_uri": "https://localhost:8080/",
          "height": 677
        }
      },
      "outputs": [
        {
          "output_type": "display_data",
          "data": {
            "text/html": [
              "<style>\n",
              ".dl-inline {width: auto; margin:0; padding: 0}\n",
              ".dl-inline>dt, .dl-inline>dd {float: none; width: auto; display: inline-block}\n",
              ".dl-inline>dt::after {content: \":\\0020\"; padding-right: .5ex}\n",
              ".dl-inline>dt:not(:first-of-type) {padding-left: .5ex}\n",
              "</style><dl class=dl-inline><dt>OUTMS</dt><dd>112</dd><dt>HOAMS</dt><dd>112</dd><dt>RSAFSx</dt><dd>132</dd><dt>ACOGNOx</dt><dd>132</dd><dt>ANDENOx</dt><dd>36</dd><dt>OILPRICEx</dt><dd>108</dd><dt>COMPRMS</dt><dd>112</dd><dt>OPHMFG</dt><dd>112</dd><dt>ULCMFG</dt><dd>112</dd><dt>MORTGAGE30US</dt><dd>49</dd><dt>MORTG10YRx</dt><dd>49</dd><dt>CPF3MTB3Mx</dt><dd>152</dd><dt>REVOLSLx</dt><dd>36</dd><dt>DRIWCIL</dt><dd>93</dd><dt>USSTHPI</dt><dd>64</dd><dt>SPCS10RSA</dt><dd>112</dd><dt>SPCS20RSA</dt><dd>164</dd><dt>TWEXAFEGSMTHx</dt><dd>188</dd><dt>EXUSEU</dt><dd>160</dd><dt>USEPUINDXM</dt><dd>104</dd><dt>CP3M</dt><dd>152</dd><dt>COMPAPFF</dt><dd>152</dd><dt>NASDAQCOM</dt><dd>48</dd><dt>CUSR0000SEHC</dt><dd>96</dd></dl>\n"
            ],
            "text/markdown": "OUTMS\n:   112HOAMS\n:   112RSAFSx\n:   132ACOGNOx\n:   132ANDENOx\n:   36OILPRICEx\n:   108COMPRMS\n:   112OPHMFG\n:   112ULCMFG\n:   112MORTGAGE30US\n:   49MORTG10YRx\n:   49CPF3MTB3Mx\n:   152REVOLSLx\n:   36DRIWCIL\n:   93USSTHPI\n:   64SPCS10RSA\n:   112SPCS20RSA\n:   164TWEXAFEGSMTHx\n:   188EXUSEU\n:   160USEPUINDXM\n:   104CP3M\n:   152COMPAPFF\n:   152NASDAQCOM\n:   48CUSR0000SEHC\n:   96\n\n",
            "text/latex": "\\begin{description*}\n\\item[OUTMS] 112\n\\item[HOAMS] 112\n\\item[RSAFSx] 132\n\\item[ACOGNOx] 132\n\\item[ANDENOx] 36\n\\item[OILPRICEx] 108\n\\item[COMPRMS] 112\n\\item[OPHMFG] 112\n\\item[ULCMFG] 112\n\\item[MORTGAGE30US] 49\n\\item[MORTG10YRx] 49\n\\item[CPF3MTB3Mx] 152\n\\item[REVOLSLx] 36\n\\item[DRIWCIL] 93\n\\item[USSTHPI] 64\n\\item[SPCS10RSA] 112\n\\item[SPCS20RSA] 164\n\\item[TWEXAFEGSMTHx] 188\n\\item[EXUSEU] 160\n\\item[USEPUINDXM] 104\n\\item[CP3M] 152\n\\item[COMPAPFF] 152\n\\item[NASDAQCOM] 48\n\\item[CUSR0000SEHC] 96\n\\end{description*}\n",
            "text/plain": [
              "        OUTMS         HOAMS        RSAFSx       ACOGNOx       ANDENOx \n",
              "          112           112           132           132            36 \n",
              "    OILPRICEx       COMPRMS        OPHMFG        ULCMFG  MORTGAGE30US \n",
              "          108           112           112           112            49 \n",
              "   MORTG10YRx    CPF3MTB3Mx      REVOLSLx       DRIWCIL       USSTHPI \n",
              "           49           152            36            93            64 \n",
              "    SPCS10RSA     SPCS20RSA TWEXAFEGSMTHx        EXUSEU    USEPUINDXM \n",
              "          112           164           188           160           104 \n",
              "         CP3M      COMPAPFF     NASDAQCOM  CUSR0000SEHC \n",
              "          152           152            48            96 "
            ]
          },
          "metadata": {}
        },
        {
          "output_type": "stream",
          "name": "stderr",
          "text": [
            "Installing package into ‘/usr/local/lib/R/site-library’\n",
            "(as ‘lib’ is unspecified)\n",
            "\n"
          ]
        },
        {
          "output_type": "stream",
          "name": "stdout",
          "text": [
            "   Lag_Length      AIC      BIC\n",
            "1           2 1265.276 1275.430\n",
            "2           3 1267.056 1280.594\n",
            "3           4 1269.049 1285.971\n",
            "4           5 1271.049 1291.356\n",
            "5           6 1272.222 1295.914\n",
            "6           7 1273.777 1300.853\n",
            "7           8 1275.301 1305.761\n",
            "8           9 1277.298 1311.143\n",
            "9          10 1279.253 1316.482\n",
            "10         11 1281.242 1321.856\n",
            "11         12 1282.417 1326.416\n",
            "   Lag_Length      AIC      BIC\n",
            "1           3 1197.317 1207.300\n",
            "2           4 1199.317 1212.628\n",
            "3           5 1201.303 1217.942\n",
            "4           6 1202.561 1222.529\n",
            "5           7 1204.247 1227.542\n",
            "6           8 1205.835 1232.458\n",
            "7           9 1207.786 1237.737\n",
            "8          10 1209.781 1243.060\n",
            "9          11 1211.733 1248.340\n",
            "10         12 1212.499 1252.434\n",
            "  Lag_Length      AIC      BIC\n",
            "1          5 1126.218 1136.022\n",
            "2          6 1127.872 1140.944\n",
            "3          7 1129.838 1146.178\n",
            "4          8 1131.696 1151.303\n",
            "5          9 1133.358 1156.233\n",
            "6         10 1135.340 1161.483\n",
            "7         11 1137.321 1166.732\n",
            "8         12 1138.755 1171.433\n"
          ]
        }
      ],
      "source": [
        "# Set the URL of the CSV file\n",
        "url <- 'https://raw.githubusercontent.com/zixuantan/Databusters/refs/heads/main/Quarterly%20Data.csv'\n",
        "\n",
        "# Read the CSV file\n",
        "quarterly <- read.csv(url)\n",
        "Q_data = quarterly[3:nrow(quarterly),]\n",
        "\n",
        "\n",
        "#################\n",
        "# data cleaning #\n",
        "#################\n",
        "missing_values <- colSums(is.na(Q_data))\n",
        "missing_values[missing_values > 32]\n",
        "# from the summary, i discovered some variables with close to (or even more than) half of the obs being NA\n",
        "# i decided to remove those with more than 32NAs, so that's 24 predictors --> good balance between number\n",
        "# of predictors and observations removed\n",
        "\n",
        "# moreover, looking through many of these 24 predictors, they seem to be highly correlated with some\n",
        "# other predictors, so it is justifiable to remove them (find 2 e.g., add in abit of economic explanation)\n",
        "\n",
        "#removing 24 predictors\n",
        "# Step 1: Find columns with more than 32 NAs\n",
        "columns_to_remove <- names(missing_values[missing_values > 32])  # Columns with more than 32 NAs\n",
        "\n",
        "# Step 2: Remove those columns from the dataset\n",
        "data_cleaned <- Q_data[, !(names(Q_data) %in% columns_to_remove)]\n",
        "\n",
        "#Remove the 32 rows with NA values\n",
        "# Find the last row's index\n",
        "last_row_index <- nrow(data_cleaned)\n",
        "\n",
        "#Remove rows with NA values, except for the last row\n",
        "data_cleaned <- data_cleaned[complete.cases(data_cleaned) | rownames(data_cleaned) == rownames(data_cleaned)[last_row_index], ]\n",
        "\n",
        "# tranform gdp growth\n",
        "data_cleaned$GDP_an_growth <- c(0, diff(log(data_cleaned$GDPC1)*400))\n",
        "\n",
        "####################################\n",
        "# AR Lag for each forecast horizon #\n",
        "####################################\n",
        "install.packages(\"dplyr\")\n",
        "library(dplyr)\n",
        "# Horizon 1: Q1 2025\n",
        "max_lag <- 12\n",
        "\n",
        "# Create lagged variables for Annualized GDP Growth\n",
        "for (lag in 2:max_lag) {\n",
        "  data_cleaned[[paste0(\"Lag_\", lag, \"_Annualized_GDP_Growth\")]] <-\n",
        "    dplyr::lag(data_cleaned$GDP_an_growth, lag)\n",
        "}\n",
        "\n",
        "# Drop rows with NA values introduced by lagging\n",
        "data_cleaned <- na.omit(data_cleaned)\n",
        "\n",
        "aic_bic_results <- data.frame(Lag_Length = integer(), AIC = numeric(), BIC = numeric())\n",
        "\n",
        "# Fit models with different lag lengths and record AIC/BIC values\n",
        "for (lag in 2:max_lag) {\n",
        "  # Select the appropriate lagged variables as predictors\n",
        "  predictors <- paste0(\"Lag_\", 2:lag, \"_Annualized_GDP_Growth\")\n",
        "  X_lagged <- data_cleaned[, predictors, drop = FALSE]\n",
        "  y <- data_cleaned$GDP_an_growth\n",
        "\n",
        "  # Add constant for intercept\n",
        "  X_lagged <- cbind(Intercept = 1, X_lagged)\n",
        "\n",
        "  # Fit the model using OLS\n",
        "  model <- glm(y ~ ., data = as.data.frame(X_lagged))\n",
        "\n",
        "  # Store AIC and BIC for each lag length\n",
        "  aic_bic_results <- rbind(aic_bic_results,\n",
        "                           data.frame(Lag_Length = lag,\n",
        "                                      AIC = AIC(model),\n",
        "                                      BIC = BIC(model)))\n",
        "}\n",
        "\n",
        "# Sort and print results by AIC\n",
        "aic_bic_results <- aic_bic_results[order(aic_bic_results$AIC), ]\n",
        "print(aic_bic_results)\n",
        "\n",
        "\n",
        "# Horizon 2: Q2 2025\n",
        "max_lag <- 12\n",
        "\n",
        "# Create lagged variables for Annualized GDP Growth\n",
        "for (lag in 3:max_lag) {\n",
        "  data_cleaned[[paste0(\"Lag_\", lag, \"_Annualized_GDP_Growth\")]] <-\n",
        "    dplyr::lag(data_cleaned$GDP_an_growth, lag)\n",
        "}\n",
        "\n",
        "# Drop rows with NA values introduced by lagging\n",
        "data_cleaned <- na.omit(data_cleaned)\n",
        "\n",
        "aic_bic_results <- data.frame(Lag_Length = integer(), AIC = numeric(), BIC = numeric())\n",
        "\n",
        "# Fit models with different lag lengths and record AIC/BIC values\n",
        "for (lag in 3:max_lag) {\n",
        "  # Select the appropriate lagged variables as predictors\n",
        "  predictors <- paste0(\"Lag_\", 3:lag, \"_Annualized_GDP_Growth\")\n",
        "  X_lagged <- data_cleaned[, predictors, drop = FALSE]\n",
        "  y <- data_cleaned$GDP_an_growth\n",
        "\n",
        "  # Add constant for intercept\n",
        "  X_lagged <- cbind(Intercept = 1, X_lagged)\n",
        "\n",
        "  # Fit the model using OLS\n",
        "  model <- glm(y ~ ., data = as.data.frame(X_lagged))\n",
        "\n",
        "  # Store AIC and BIC for each lag length\n",
        "  aic_bic_results <- rbind(aic_bic_results,\n",
        "                           data.frame(Lag_Length = lag,\n",
        "                                      AIC = AIC(model),\n",
        "                                      BIC = BIC(model)))\n",
        "}\n",
        "\n",
        "# Sort and print results by AIC\n",
        "aic_bic_results <- aic_bic_results[order(aic_bic_results$AIC), ]\n",
        "print(aic_bic_results)\n",
        "\n",
        "\n",
        "# Horizon 3: Q2 2025\n",
        "max_lag <- 12\n",
        "\n",
        "# Create lagged variables for Annualized GDP Growth\n",
        "for (lag in 5:max_lag) {\n",
        "  data_cleaned[[paste0(\"Lag_\", lag, \"_Annualized_GDP_Growth\")]] <-\n",
        "    dplyr::lag(data_cleaned$GDP_an_growth, lag)\n",
        "}\n",
        "\n",
        "# Drop rows with NA values introduced by lagging\n",
        "data_cleaned <- na.omit(data_cleaned)\n",
        "\n",
        "aic_bic_results <- data.frame(Lag_Length = integer(), AIC = numeric(), BIC = numeric())\n",
        "\n",
        "# Fit models with different lag lengths and record AIC/BIC values\n",
        "for (lag in 5:max_lag) {\n",
        "  # Select the appropriate lagged variables as predictors\n",
        "  predictors <- paste0(\"Lag_\", 5:lag, \"_Annualized_GDP_Growth\")\n",
        "  X_lagged <- data_cleaned[, predictors, drop = FALSE]\n",
        "  y <- data_cleaned$GDP_an_growth\n",
        "\n",
        "  # Add constant for intercept\n",
        "  X_lagged <- cbind(Intercept = 1, X_lagged)\n",
        "\n",
        "  # Fit the model using OLS\n",
        "  model <- glm(y ~ ., data = as.data.frame(X_lagged))\n",
        "\n",
        "  # Store AIC and BIC for each lag length\n",
        "  aic_bic_results <- rbind(aic_bic_results,\n",
        "                           data.frame(Lag_Length = lag,\n",
        "                                      AIC = AIC(model),\n",
        "                                      BIC = BIC(model)))\n",
        "}\n",
        "\n",
        "# Sort and print results by AIC\n",
        "aic_bic_results <- aic_bic_results[order(aic_bic_results$AIC), ]\n",
        "print(aic_bic_results)\n",
        "\n",
        "\n",
        "\n",
        "\n",
        "###############################################\n",
        "# Optimal ADL lag and its respective datasets #\n",
        "###############################################\n",
        "\n",
        "# Y(t) = aY(t-2) + b [Q1 2025]\n",
        "growth_tmr_Q1 = data_cleaned$GDP_an_growth[4:231]\n",
        "tsdata_Q1 = cbind(growth_tmr_Q1, data_cleaned[2:229,])\n",
        "\n",
        "\n",
        "# Y(t) = aY(t-3) + b [Q2 2025)]\n",
        "growth_tmr_Q2 = data_cleaned$GDP_an_growth[5:231]\n",
        "tsdata_Q2 = cbind(growth_tmr_Q2, data_cleaned[2:228,])\n",
        "\n",
        "\n",
        "# Y(t) = aY(t-5) + b [Q2 2025)]\n",
        "growth_tmr_Q4 = data_cleaned$GDP_an_growth[7:231]\n",
        "tsdata_Q4 = cbind(growth_tmr_Q4, data_cleaned[2:226,])\n",
        "\n"
      ]
    },
    {
      "cell_type": "markdown",
      "metadata": {
        "id": "N_03OJuQuCXm"
      },
      "source": [
        "#### Remember to rename your file name to **NUS_DSESC_DATABUSTERS_XX.ipynb** and ensure that it can run successfully. Good luck and have fun!"
      ]
    }
  ],
  "metadata": {
    "kernelspec": {
      "display_name": "R",
      "name": "ir"
    },
    "language_info": {
      "name": "R"
    },
    "colab": {
      "provenance": [],
      "include_colab_link": true
    }
  },
  "nbformat": 4,
  "nbformat_minor": 0
}