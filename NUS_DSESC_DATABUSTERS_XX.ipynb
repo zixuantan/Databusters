{
  "cells": [
    {
      "cell_type": "markdown",
      "metadata": {
        "id": "Ac7I8Cn1uCXl"
      },
      "source": [
        "## 1) Libraries Installation\n",
        "##### The cell below is to help you keep track the libraries used and install them quickly.\n",
        "##### Ensure the correct library names are used, and follow the syntax: **%pip install PACKAGE_NAME**."
      ]
    },
    {
      "cell_type": "code",
      "source": [],
      "metadata": {
        "id": "CA7qzyscSJ-O"
      },
      "execution_count": null,
      "outputs": []
    },
    {
      "cell_type": "code",
      "execution_count": null,
      "metadata": {
        "id": "a4GYYh8ruCXl"
      },
      "outputs": [],
      "source": [
        "# %pip install pandas\n",
        "# %pip install matplotlib\n",
        "# add commented pip installation lines for packages used as shown above for ease of testing\n",
        "# the line should follow the format %pip install PACKAGE_NAME"
      ]
    },
    {
      "cell_type": "markdown",
      "metadata": {
        "id": "0dW6s07OuCXm"
      },
      "source": [
        "## 2) Main Section for Code\n",
        "### **ALL code for machine learning and dataset analysis** should be entered below.\n",
        "##### Ensure that your code is clear and readable.\n",
        "##### Remember to include comments and markdown notes as necessary to explain and highlight important segments of your code."
      ]
    },
    {
      "cell_type": "code",
      "execution_count": 1,
      "metadata": {
        "id": "EyoqPn4nuCXm",
        "outputId": "03d215c4-fe21-45a4-f68d-d6842ccf7742",
        "colab": {
          "base_uri": "https://localhost:8080/",
          "height": 315
        }
      },
      "outputs": [
        {
          "output_type": "stream",
          "name": "stderr",
          "text": [
            "Warning message in file(file, \"rt\"):\n",
            "“cannot open file 'Quarterly Data.csv': No such file or directory”\n"
          ]
        },
        {
          "output_type": "error",
          "ename": "ERROR",
          "evalue": "Error in file(file, \"rt\"): cannot open the connection\n",
          "traceback": [
            "Error in file(file, \"rt\"): cannot open the connection\nTraceback:\n",
            "1. read.table(file = file, header = header, sep = sep, quote = quote, \n .     dec = dec, fill = fill, comment.char = comment.char, ...)",
            "2. file(file, \"rt\")",
            "3. .handleSimpleError(function (cnd) \n . {\n .     watcher$capture_plot_and_output()\n .     cnd <- sanitize_call(cnd)\n .     watcher$push(cnd)\n .     switch(on_error, continue = invokeRestart(\"eval_continue\"), \n .         stop = invokeRestart(\"eval_stop\"), error = NULL)\n . }, \"cannot open the connection\", base::quote(file(file, \"rt\")))"
          ]
        }
      ],
      "source": [
        "Quarterly = read.csv(\"Quarterly Data.csv\", header = TRUE)\n",
        "Q_data = Quarterly[3:nrow(Quarterly),]\n",
        "\n",
        "# data transformation for growth rates\n",
        "# first lag: Y(t) = aY(t-1) + b\n",
        "Q_data$GDPGrowth <- c(0, diff(log(Q_data$GDPC1)*400))\n",
        "growth_tmr = Q_data$GDPGrowth[3:263]\n",
        "tsdata = cbind(growth_tmr, Q_data[2:262,])\n",
        "\n",
        "lag1 = lm(growth_tmr ~ GDPGrowth, data = tsdata)\n",
        "predlm = predict.lm(lag1, newdata=tsdata)\n",
        "predlm2=rep(mean(growth_tmr), length(growth_tmr))\n",
        "\n",
        "hm_mse=mean((tsdata$growth_tmr-predlm)^2)\n",
        "sqrt(hm_mse)"
      ]
    },
    {
      "cell_type": "markdown",
      "metadata": {
        "id": "N_03OJuQuCXm"
      },
      "source": [
        "#### Remember to rename your file name to **NUS_DSESC_DATABUSTERS_XX.ipynb** and ensure that it can run successfully. Good luck and have fun!"
      ]
    }
  ],
  "metadata": {
    "kernelspec": {
      "display_name": "R",
      "name": "ir"
    },
    "language_info": {
      "name": "R"
    },
    "colab": {
      "provenance": []
    }
  },
  "nbformat": 4,
  "nbformat_minor": 0
}